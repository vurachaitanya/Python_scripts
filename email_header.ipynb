{
 "cells": [
  {
   "cell_type": "code",
   "execution_count": 10,
   "metadata": {},
   "outputs": [
    {
     "name": "stdout",
     "output_type": "stream",
     "text": [
      "Inbox_archive\n",
      "Personal\n",
      "Personal\n",
      "outside\n",
      "ML\n",
      "learning\n",
      "Later\n",
      "IANS\n",
      "ELP\n",
      "AWS\n",
      "read later\n",
      "Anniversary\n",
      "Rg\n",
      "Hub\n",
      "0:00:00.690090 sec 43\n"
     ]
    }
   ],
   "source": [
    "import win32com.client\n",
    "from datetime import datetime\n",
    "outlook = win32com.client.Dispatch(\"Outlook.Application\").GetNamespace(\"MAPI\")\n",
    "inbox = outlook.GetDefaultFolder(6)\n",
    "\n",
    "def dumpMailsToFile(f):\n",
    "  col_sep=\"~\"\n",
    "  for i in f.Items:\n",
    "    if ( i.ReceivedTime.month == 1  ) :\n",
    "      #sev = i.Subject[:1]\n",
    "      global c\n",
    "      filehandler.write(str(i.Subject)+col_sep+i.ReceivedTime.strftime(\"%d%m%Y\")+col_sep+i.ReceivedTime.strftime(\"%H%M%S\")+\"\\n\")\n",
    "      c+=1\n",
    "\n",
    "startTime = datetime.now()\n",
    "filename = \"C:\\\\Users\\\\vchaita3\\\\Chaitanya\\\\\"+\"email_dump\"+startTime.strftime(\"%d%m%Y\")\n",
    "index_dict={}\n",
    "c=0\n",
    "filehandler = open(filename,'w')\n",
    "for i in inbox.Folders:\n",
    "    print(i)\n",
    "    if str(i) == \"Inbox_archive\":\n",
    "        for j in i.Folders:\n",
    "            print(j)\n",
    "            if str(j) == \"Personal\":\n",
    "                print(j)\n",
    "                dumpMailsToFile(j)\n",
    "                \n",
    "filehandler.close()\n",
    "print(datetime.now()-startTime,\"sec\",c)"
   ]
  },
  {
   "cell_type": "code",
   "execution_count": null,
   "metadata": {},
   "outputs": [
    {
     "name": "stdout",
     "output_type": "stream",
     "text": [
      "Fwd: A To-Do Awaits you: Input Work Authorization Document Details into Workday (National ID) (India)\n",
      "10 DIY IoT projects to try using open source tools | Opensource.com\n",
      "KiCad 6.0.0 Brings a New Look, New Features, and a Much Improved 3D Viewer for Your PCB Designs - Hackster.io\n",
      "Document from vurachaitanya\n",
      "Document from vurachaitanya\n",
      "Document from vurachaitanya\n",
      "Photo from vurachaitanya\n",
      "Photo from vurachaitanya\n",
      "QPrompt is a Free and Open Source Teleprompter for Video Creators - It's FOSS\n",
      "What is Bulli Bai app, what is its link to Sulli Deals, and how GitHub is involved: Story in 10 points - Technology News\n",
      "Raspberry Pi can detect malware attack using electromagnetic waves with astonishing accuracy | Neowin\n",
      "The Katzentracker Is a Tiny, SAM R34-Powered LoRa Locator, Crammed Into the Size of a Coin! - Hackster.io\n"
     ]
    }
   ],
   "source": [
    "##### READ THE FILE which MAILS DUMP has created\n",
    "\n",
    "import win32com.client\n",
    "from datetime import datetime\n",
    "\n",
    "import PyPDF2\n",
    "import pyttsx3\n",
    "from PyPDF2 import PdfFileReader\n",
    "import time\n",
    "\n",
    "outlook = win32com.client.Dispatch(\"Outlook.Application\").GetNamespace(\"MAPI\")\n",
    "inbox = outlook.GetDefaultFolder(6)\n",
    "\n",
    "def dumpMailsToFile(f):\n",
    "  col_sep=\"~\"\n",
    "  for i in f.Items:\n",
    "    if ( i.ReceivedTime.month == 1  ) :\n",
    "      #sev = i.Subject[:1]\n",
    "      global c\n",
    "      filehandler.write(str(i.Subject)+col_sep+i.ReceivedTime.strftime(\"%d%m%Y\")+col_sep+i.ReceivedTime.strftime(\"%H%M%S\")+\"\\n\")\n",
    "      c+=1\n",
    "\n",
    "startTime = datetime.now()\n",
    "filename = \"C:\\\\Users\\\\vchaita3\\\\Chaitanya\\\\\"+\"email_dump\"+startTime.strftime(\"%d%m%Y\")\n",
    "index_dict={}\n",
    "c=0\n",
    "filehandler = open(filename,'w')\n",
    "for i in inbox.Folders:\n",
    "    #print(i)\n",
    "    if str(i) == \"Inbox_archive\":\n",
    "        for j in i.Folders:\n",
    "            #print(j)\n",
    "            if str(j) == \"Personal\":\n",
    "                #print(j)\n",
    "                dumpMailsToFile(j)\n",
    "                \n",
    "                \n",
    "                \n",
    "filehandler.close()\n",
    "fileread = open(filename,'r')\n",
    "#text = (fileread.read())\n",
    "for x in fileread:\n",
    "    y = x.split(\"~\",x.index(\"~\"))\n",
    "    z = y[0]\n",
    "    print(z)\n",
    "    time.sleep(1)\n",
    "    \n",
    "    speak = pyttsx3.init()\n",
    "    speak.say(z)\n",
    "    speak.runAndWait()\n",
    "    \n",
    "\n",
    "#### Text to speach/voice\n",
    "#speak = pyttsx3.init()\n",
    "#speak.say(text)\n",
    "#speak.runAndWait()\n",
    "\n",
    "\n",
    "print(datetime.now()-startTime,\"sec\",c)"
   ]
  },
  {
   "cell_type": "code",
   "execution_count": null,
   "metadata": {},
   "outputs": [],
   "source": [
    "import win32com.client\n",
    "from win32com.client import Dispatch, constants\n",
    "\n",
    "\n",
    "\n",
    "const=win32com.client.constants\n",
    "olMailItem = 0x0\n",
    "obj = win32com.client.Dispatch(\"Outlook.Application\")\n",
    "obj.R\n",
    "newMail = obj.CreateItem(olMailItem)\n",
    "newMail.Subject = \"I AM SUBJECT!!\"\n",
    "# newMail.Body = \"I AM\\nTHE BODY MESSAGE!\"\n",
    "newMail.BodyFormat = 2 # olFormatHTML https://msdn.microsoft.com/en-us/library/office/aa219371(v=office.11).aspx\n",
    "newMail.HTMLBody = \"<HTML><BODY>Enter the <span style='color:red'>message</span> text here.</BODY></HTML>\"\n",
    "newMail.To = \"email@demo.com\"\n",
    "attachment1 = r\"C:\\Temp\\example.pdf\"\n",
    "#newMail.Attachments.Add(Source=attachment1)\n",
    "newMail.display()\n",
    "newMail.Send()"
   ]
  },
  {
   "cell_type": "code",
   "execution_count": 15,
   "metadata": {},
   "outputs": [
    {
     "name": "stdout",
     "output_type": "stream",
     "text": [
      "<_io.BufferedReader name='drive-to-thrive.pdf'>\n",
      "File Decrypted (PyPDF2)\n"
     ]
    },
    {
     "ename": "AttributeError",
     "evalue": "'int' object has no attribute 'seek'",
     "output_type": "error",
     "traceback": [
      "\u001b[1;31m---------------------------------------------------------------------------\u001b[0m",
      "\u001b[1;31mAttributeError\u001b[0m                            Traceback (most recent call last)",
      "\u001b[1;32m<ipython-input-15-4899ac49dbaf>\u001b[0m in \u001b[0;36m<module>\u001b[1;34m\u001b[0m\n\u001b[0;32m     30\u001b[0m \u001b[1;33m\u001b[0m\u001b[0m\n\u001b[0;32m     31\u001b[0m \u001b[1;31m# creating a PdfFileReader object\u001b[0m\u001b[1;33m\u001b[0m\u001b[1;33m\u001b[0m\u001b[1;33m\u001b[0m\u001b[0m\n\u001b[1;32m---> 32\u001b[1;33m \u001b[0mpdfReader\u001b[0m \u001b[1;33m=\u001b[0m \u001b[0mPyPDF2\u001b[0m\u001b[1;33m.\u001b[0m\u001b[0mPdfFileReader\u001b[0m\u001b[1;33m(\u001b[0m\u001b[0mpath\u001b[0m\u001b[1;33m)\u001b[0m\u001b[1;33m\u001b[0m\u001b[1;33m\u001b[0m\u001b[0m\n\u001b[0m\u001b[0;32m     33\u001b[0m \u001b[1;33m\u001b[0m\u001b[0m\n\u001b[0;32m     34\u001b[0m \u001b[1;31m# the page with which you want to start\u001b[0m\u001b[1;33m\u001b[0m\u001b[1;33m\u001b[0m\u001b[1;33m\u001b[0m\u001b[0m\n",
      "\u001b[1;32mC:\\ProgramData\\Anaconda3\\lib\\site-packages\\PyPDF2\\pdf.py\u001b[0m in \u001b[0;36m__init__\u001b[1;34m(self, stream, strict, warndest, overwriteWarnings)\u001b[0m\n\u001b[0;32m   1082\u001b[0m             \u001b[0mstream\u001b[0m \u001b[1;33m=\u001b[0m \u001b[0mBytesIO\u001b[0m\u001b[1;33m(\u001b[0m\u001b[0mb_\u001b[0m\u001b[1;33m(\u001b[0m\u001b[0mfileobj\u001b[0m\u001b[1;33m.\u001b[0m\u001b[0mread\u001b[0m\u001b[1;33m(\u001b[0m\u001b[1;33m)\u001b[0m\u001b[1;33m)\u001b[0m\u001b[1;33m)\u001b[0m\u001b[1;33m\u001b[0m\u001b[1;33m\u001b[0m\u001b[0m\n\u001b[0;32m   1083\u001b[0m             \u001b[0mfileobj\u001b[0m\u001b[1;33m.\u001b[0m\u001b[0mclose\u001b[0m\u001b[1;33m(\u001b[0m\u001b[1;33m)\u001b[0m\u001b[1;33m\u001b[0m\u001b[1;33m\u001b[0m\u001b[0m\n\u001b[1;32m-> 1084\u001b[1;33m         \u001b[0mself\u001b[0m\u001b[1;33m.\u001b[0m\u001b[0mread\u001b[0m\u001b[1;33m(\u001b[0m\u001b[0mstream\u001b[0m\u001b[1;33m)\u001b[0m\u001b[1;33m\u001b[0m\u001b[1;33m\u001b[0m\u001b[0m\n\u001b[0m\u001b[0;32m   1085\u001b[0m         \u001b[0mself\u001b[0m\u001b[1;33m.\u001b[0m\u001b[0mstream\u001b[0m \u001b[1;33m=\u001b[0m \u001b[0mstream\u001b[0m\u001b[1;33m\u001b[0m\u001b[1;33m\u001b[0m\u001b[0m\n\u001b[0;32m   1086\u001b[0m \u001b[1;33m\u001b[0m\u001b[0m\n",
      "\u001b[1;32mC:\\ProgramData\\Anaconda3\\lib\\site-packages\\PyPDF2\\pdf.py\u001b[0m in \u001b[0;36mread\u001b[1;34m(self, stream)\u001b[0m\n\u001b[0;32m   1687\u001b[0m         \u001b[1;32mif\u001b[0m \u001b[0mdebug\u001b[0m\u001b[1;33m:\u001b[0m \u001b[0mprint\u001b[0m\u001b[1;33m(\u001b[0m\u001b[1;34m\">>read\"\u001b[0m\u001b[1;33m,\u001b[0m \u001b[0mstream\u001b[0m\u001b[1;33m)\u001b[0m\u001b[1;33m\u001b[0m\u001b[1;33m\u001b[0m\u001b[0m\n\u001b[0;32m   1688\u001b[0m         \u001b[1;31m# start at the end:\u001b[0m\u001b[1;33m\u001b[0m\u001b[1;33m\u001b[0m\u001b[1;33m\u001b[0m\u001b[0m\n\u001b[1;32m-> 1689\u001b[1;33m         \u001b[0mstream\u001b[0m\u001b[1;33m.\u001b[0m\u001b[0mseek\u001b[0m\u001b[1;33m(\u001b[0m\u001b[1;33m-\u001b[0m\u001b[1;36m1\u001b[0m\u001b[1;33m,\u001b[0m \u001b[1;36m2\u001b[0m\u001b[1;33m)\u001b[0m\u001b[1;33m\u001b[0m\u001b[1;33m\u001b[0m\u001b[0m\n\u001b[0m\u001b[0;32m   1690\u001b[0m         \u001b[1;32mif\u001b[0m \u001b[1;32mnot\u001b[0m \u001b[0mstream\u001b[0m\u001b[1;33m.\u001b[0m\u001b[0mtell\u001b[0m\u001b[1;33m(\u001b[0m\u001b[1;33m)\u001b[0m\u001b[1;33m:\u001b[0m\u001b[1;33m\u001b[0m\u001b[1;33m\u001b[0m\u001b[0m\n\u001b[0;32m   1691\u001b[0m             \u001b[1;32mraise\u001b[0m \u001b[0mutils\u001b[0m\u001b[1;33m.\u001b[0m\u001b[0mPdfReadError\u001b[0m\u001b[1;33m(\u001b[0m\u001b[1;34m'Cannot read an empty file'\u001b[0m\u001b[1;33m)\u001b[0m\u001b[1;33m\u001b[0m\u001b[1;33m\u001b[0m\u001b[0m\n",
      "\u001b[1;31mAttributeError\u001b[0m: 'int' object has no attribute 'seek'"
     ]
    }
   ],
   "source": [
    "# Convert PDF File Text to Audio Speech using Python\n",
    "# importing the modules\n",
    "import os\n",
    "import PyPDF2\n",
    "import pyttsx3\n",
    "from PyPDF2 import PdfFileReader\n",
    "\n",
    "filename = 'drive-to-thrive.pdf'\n",
    "\n",
    "# path of the PDF file\n",
    "path = open(filename, 'rb')\n",
    "#print(path)\n",
    "pdfFile = PdfFileReader(path)\n",
    "\n",
    "###### DECRYPT\n",
    "if pdfFile.isEncrypted:\n",
    "    try:\n",
    "        path = pdfFile.decrypt('')\n",
    "        \n",
    "        print('File Decrypted (PyPDF2)')\n",
    "    except:\n",
    "        command = (\"cp \"+ filename +\n",
    "            \" temp.pdf; qpdf --password='' --decrypt temp.pdf \" + filename\n",
    "            + \"; rm temp.pdf\")\n",
    "        os.system(command)\n",
    "        \n",
    "\n",
    "#print(path)\n",
    "\n",
    "\n",
    "# creating a PdfFileReader object\n",
    "pdfReader = PyPDF2.PdfFileReader(path)\n",
    "\n",
    "# the page with which you want to start\n",
    "# this will read the page of 25th page.\n",
    "from_page = pdfReader.getPage(2)\n",
    "\n",
    "# extracting the text from the PDF\n",
    "text = from_page.extractText()\n",
    "\n",
    "# reading the text\n",
    "speak = pyttsx3.init()\n",
    "speak.say(text)\n",
    "speak.runAndWait()\n"
   ]
  },
  {
   "cell_type": "code",
   "execution_count": null,
   "metadata": {},
   "outputs": [],
   "source": [
    "import os\n",
    "import PyPDF2\n",
    "from PyPDF2 import PdfFileReader\n",
    "\n",
    "#fp = open(filename)\n",
    "fp = open('drive-to-thrive.pdf', 'rb')\n",
    "\n",
    "pdfFile = PdfFileReader(fp)\n",
    "pdfFile.\n",
    "if pdfFile.isEncrypted:\n",
    "    try:\n",
    "        pdfFile.decrypt('')\n",
    "        print('File Decrypted (PyPDF2)')\n",
    "    except:\n",
    "        command = (\"cp \"+ filename +\n",
    "            \" temp.pdf; qpdf --password='' --decrypt temp.pdf \" + filename\n",
    "            + \"; rm temp.pdf\")\n",
    "        os.system(command)\n",
    "        print('File Decrypted (qpdf)')\n",
    "        fp = open('drive-to-thrive.pdf', 'rb)\n",
    "        pdfFile = PdfFileReader(fp)\n",
    "        print(pdfFile)\n",
    "else:\n",
    "    print('File Not Encrypted')"
   ]
  },
  {
   "cell_type": "code",
   "execution_count": null,
   "metadata": {},
   "outputs": [
    {
     "name": "stdout",
     "output_type": "stream",
     "text": [
      "Enter the word you want to speak it out by computer\n",
      "Chaitanya you are working on python\n",
      "Enter the word you want to speak it out by computer\n"
     ]
    }
   ],
   "source": [
    "# Python program to convert\n",
    "# text to speech\n",
    "\n",
    "# import the required module from text to speech conversion\n",
    "import win32com.client\n",
    "\n",
    "# Calling the Disptach method of the module which\n",
    "# interact with Microsoft Speech SDK to speak\n",
    "# the given input from the keyboard\n",
    "\n",
    "speaker = win32com.client.Dispatch(\"SAPI.SpVoice\")\n",
    "\n",
    "while 1:\n",
    "\tprint(\"Enter the word you want to speak it out by computer\")\n",
    "\ts = input()\n",
    "\tspeaker.Speak(s)\n",
    "\n",
    "# To stop the program press\n",
    "# CTRL + Z\n"
   ]
  },
  {
   "cell_type": "code",
   "execution_count": 7,
   "metadata": {},
   "outputs": [
    {
     "ename": "SyntaxError",
     "evalue": "EOL while scanning string literal (<ipython-input-7-3c7fef6b9533>, line 19)",
     "output_type": "error",
     "traceback": [
      "\u001b[1;36m  File \u001b[1;32m\"<ipython-input-7-3c7fef6b9533>\"\u001b[1;36m, line \u001b[1;32m19\u001b[0m\n\u001b[1;33m    fp = open('drive-to-thrive.pdf', 'rb)\u001b[0m\n\u001b[1;37m                                         ^\u001b[0m\n\u001b[1;31mSyntaxError\u001b[0m\u001b[1;31m:\u001b[0m EOL while scanning string literal\n"
     ]
    }
   ],
   "source": [
    "import os\n",
    "import PyPDF2\n",
    "from PyPDF2 import PdfFileReader\n",
    "\n",
    "#fp = open(filename)\n",
    "fp = open('drive-to-thrive.pdf', 'rb')\n",
    "\n",
    "pdfFile = PdfFileReader(fp)\n",
    "if pdfFile.isEncrypted:\n",
    "    try:\n",
    "        pdfFile.decrypt('')\n",
    "        print('File Decrypted (PyPDF2)')\n",
    "    except:\n",
    "        command = (\"cp \"+ filename +\n",
    "            \" temp.pdf; qpdf --password='' --decrypt temp.pdf \" + filename\n",
    "            + \"; rm temp.pdf\")\n",
    "        os.system(command)\n",
    "        print('File Decrypted (qpdf)')\n",
    "        fp = open('drive-to-thrive.pdf', 'rb)\n",
    "        pdfFile = PdfFileReader(fp)\n",
    "        print(pdfFile)\n",
    "else:\n",
    "    print('File Not Encrypted')"
   ]
  },
  {
   "cell_type": "code",
   "execution_count": 35,
   "metadata": {},
   "outputs": [
    {
     "name": "stdout",
     "output_type": "stream",
     "text": [
      "asdf23rlkasdfidsiwanttocuts\n"
     ]
    }
   ],
   "source": [
    "### CUT the string using index\n",
    "\n",
    "s = \"asdf23rlkasdfidsiwanttocuts~wthisoutsadlkljasdfh~vaildufhblkajsdhf\"\n",
    "#s[s.index(\"iwant\")+len(\"iwant\"):s.index(\"thisout\")]\n",
    "##s[s.index(\"~\")+len(\"~\"):s.index(len(s))]\n",
    "#s.split(\"~\",5)\n",
    "ss = s.split(\"~\",s.index(\"~\"))\n",
    "substring = ss[0]\n",
    "print(substring)"
   ]
  }
 ],
 "metadata": {
  "kernelspec": {
   "display_name": "Python 3",
   "language": "python",
   "name": "python3"
  },
  "language_info": {
   "codemirror_mode": {
    "name": "ipython",
    "version": 3
   },
   "file_extension": ".py",
   "mimetype": "text/x-python",
   "name": "python",
   "nbconvert_exporter": "python",
   "pygments_lexer": "ipython3",
   "version": "3.7.3"
  }
 },
 "nbformat": 4,
 "nbformat_minor": 2
}
